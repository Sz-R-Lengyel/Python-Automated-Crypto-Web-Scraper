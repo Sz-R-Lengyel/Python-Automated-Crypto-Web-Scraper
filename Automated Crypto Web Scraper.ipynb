{
 "cells": [
  {
   "cell_type": "markdown",
   "id": "c74eb39a-e857-46ee-a2b7-ee4e638e32a7",
   "metadata": {},
   "source": [
    "#     Automated Crypto Web Scraper"
   ]
  },
  {
   "cell_type": "code",
   "execution_count": 386,
   "id": "4dcd0e50-0311-4e82-9b05-910c5f3881ec",
   "metadata": {},
   "outputs": [],
   "source": [
    "from bs4 import BeautifulSoup\n",
    "import requests"
   ]
  },
  {
   "cell_type": "code",
   "execution_count": 388,
   "id": "722e9123-e6c6-41d9-881d-6d2f3039f253",
   "metadata": {},
   "outputs": [],
   "source": [
    "url = 'https://coinmarketcap.com/currencies/bitcoin/'\n",
    "\n",
    "page = requests.get(url)\n",
    "\n",
    "soup = BeautifulSoup(page.text, 'html')"
   ]
  },
  {
   "cell_type": "code",
   "execution_count": null,
   "id": "97200948-558d-4f5c-8ede-8ca00fbfde60",
   "metadata": {},
   "outputs": [],
   "source": [
    "print(soup)"
   ]
  },
  {
   "cell_type": "code",
   "execution_count": 392,
   "id": "f4d9cc98-7a88-476f-b6ce-14ef59def4b3",
   "metadata": {},
   "outputs": [
    {
     "data": {
      "text/plain": [
       "<span class=\"sc-65e7f566-0 lsTl\" data-role=\"coin-name\" title=\"Bitcoin\">Bitcoin<span class=\"sc-65e7f566-0 eQBACe coin-name-mobile\"> price</span> </span>"
      ]
     },
     "execution_count": 392,
     "metadata": {},
     "output_type": "execute_result"
    }
   ],
   "source": [
    "soup.find('span', class_= 'sc-65e7f566-0 lsTl')"
   ]
  },
  {
   "cell_type": "code",
   "execution_count": 394,
   "id": "8a1253ec-4a2c-49a1-b17f-ebffddbb4e88",
   "metadata": {},
   "outputs": [
    {
     "data": {
      "text/plain": [
       "'Bitcoin price\\xa0'"
      ]
     },
     "execution_count": 394,
     "metadata": {},
     "output_type": "execute_result"
    }
   ],
   "source": [
    "soup.find('span', class_= 'sc-65e7f566-0 lsTl').text"
   ]
  },
  {
   "cell_type": "code",
   "execution_count": 396,
   "id": "755ccb29-b268-445c-abe0-7095e0f2cf1b",
   "metadata": {},
   "outputs": [
    {
     "name": "stdout",
     "output_type": "stream",
     "text": [
      "Bitcoin \n"
     ]
    }
   ],
   "source": [
    "crypto_name = soup.find('span', class_ = 'sc-65e7f566-0 lsTl').text\n",
    "crypto_name = crypto_name.replace(' price', '')\n",
    "print(crypto_name)"
   ]
  },
  {
   "cell_type": "code",
   "execution_count": 400,
   "id": "387404a6-9f98-4e34-9ce5-017593f4aa59",
   "metadata": {},
   "outputs": [
    {
     "data": {
      "text/plain": [
       "<span class=\"sc-65e7f566-0 clvjgF base-text\" data-test=\"text-cdp-price-display\">$59,672.31</span>"
      ]
     },
     "execution_count": 400,
     "metadata": {},
     "output_type": "execute_result"
    }
   ],
   "source": [
    "soup.find('span', class_= 'sc-65e7f566-0 clvjgF base-text')"
   ]
  },
  {
   "cell_type": "code",
   "execution_count": 402,
   "id": "5886d1f4-d2e8-4826-8b0f-7374b4576682",
   "metadata": {},
   "outputs": [
    {
     "data": {
      "text/plain": [
       "'$59,672.31'"
      ]
     },
     "execution_count": 402,
     "metadata": {},
     "output_type": "execute_result"
    }
   ],
   "source": [
    "soup.find('span', class_= 'sc-65e7f566-0 clvjgF base-text').text"
   ]
  },
  {
   "cell_type": "code",
   "execution_count": 404,
   "id": "b9a823a6-0c49-4a3b-a8d5-1fde3dbc2524",
   "metadata": {},
   "outputs": [],
   "source": [
    "crypto_price = soup.find('span', class_ = 'sc-65e7f566-0 clvjgF base-text').text"
   ]
  },
  {
   "cell_type": "code",
   "execution_count": 408,
   "id": "95208faf-4a52-4df9-a3d6-3c7d0d52087c",
   "metadata": {},
   "outputs": [],
   "source": [
    "final_price = crypto_price = crypto_price.replace('$','') "
   ]
  },
  {
   "cell_type": "code",
   "execution_count": 410,
   "id": "faad0d5c-a5f6-4e95-94e9-bde9a5d69cad",
   "metadata": {},
   "outputs": [
    {
     "data": {
      "text/plain": [
       "'59,672.31'"
      ]
     },
     "execution_count": 410,
     "metadata": {},
     "output_type": "execute_result"
    }
   ],
   "source": [
    "final_price"
   ]
  },
  {
   "cell_type": "code",
   "execution_count": 412,
   "id": "8123e214-712e-46ea-bc4b-4d939d408eeb",
   "metadata": {},
   "outputs": [],
   "source": [
    "import pandas as pd"
   ]
  },
  {
   "cell_type": "code",
   "execution_count": 414,
   "id": "88cf86ce-9f20-4435-9c44-7f004322de58",
   "metadata": {},
   "outputs": [
    {
     "name": "stdout",
     "output_type": "stream",
     "text": [
      "2024-08-29 11:29:42.170145\n"
     ]
    }
   ],
   "source": [
    "from datetime import datetime\n",
    "\n",
    "date_time = datetime.now()\n",
    "\n",
    "print(dt)"
   ]
  },
  {
   "cell_type": "code",
   "execution_count": 416,
   "id": "c996bdc3-cb17-4238-aea8-e5522e7646a0",
   "metadata": {},
   "outputs": [
    {
     "data": {
      "text/html": [
       "<div>\n",
       "<style scoped>\n",
       "    .dataframe tbody tr th:only-of-type {\n",
       "        vertical-align: middle;\n",
       "    }\n",
       "\n",
       "    .dataframe tbody tr th {\n",
       "        vertical-align: top;\n",
       "    }\n",
       "\n",
       "    .dataframe thead th {\n",
       "        text-align: right;\n",
       "    }\n",
       "</style>\n",
       "<table border=\"1\" class=\"dataframe\">\n",
       "  <thead>\n",
       "    <tr style=\"text-align: right;\">\n",
       "      <th></th>\n",
       "      <th>Crypto Name</th>\n",
       "      <th>Price</th>\n",
       "      <th>TimeStamp</th>\n",
       "    </tr>\n",
       "  </thead>\n",
       "  <tbody>\n",
       "    <tr>\n",
       "      <th>0</th>\n",
       "      <td>Bitcoin</td>\n",
       "      <td>59,672.31</td>\n",
       "      <td>2024-08-29 11:57:15.732607</td>\n",
       "    </tr>\n",
       "  </tbody>\n",
       "</table>\n",
       "</div>"
      ],
      "text/plain": [
       "  Crypto Name      Price                  TimeStamp\n",
       "0    Bitcoin   59,672.31 2024-08-29 11:57:15.732607"
      ]
     },
     "execution_count": 416,
     "metadata": {},
     "output_type": "execute_result"
    }
   ],
   "source": [
    "date_time = datetime.now()\n",
    "\n",
    "dict = {'Crypto Name':crypto_name,\n",
    "        'Price':final_price,\n",
    "         'TimeStamp': date_time}\n",
    "\n",
    "df = pd.DataFrame([dict])\n",
    "df"
   ]
  },
  {
   "cell_type": "code",
   "execution_count": 418,
   "id": "c7a8c76f-e678-4502-86c1-0e4b1457f0c9",
   "metadata": {},
   "outputs": [],
   "source": [
    "df.to_csv(r'C:\\#Enter_file_Path\\Crypto_Automated_Pull.csv')"
   ]
  },
  {
   "cell_type": "code",
   "execution_count": 420,
   "id": "7e45b27a-56c4-414d-8366-f6014013c88c",
   "metadata": {},
   "outputs": [],
   "source": [
    "import os"
   ]
  },
  {
   "cell_type": "code",
   "execution_count": null,
   "id": "0721a90e-eb2b-41ff-ac46-e3cf6ec3bfcb",
   "metadata": {},
   "outputs": [],
   "source": [
    "if os.path.exists(r'C:\\#Enter_file_Path\\Crypto_Automated_Pull.csv'):\n",
    "    df.to_csv(r'C:\\#Enter_file_Path\\Crypto_Automated_Pull.csv',mode='a', header= False, index = False)\n",
    "else:\n",
    "     df.to_csv(r'C:\\#Enter_file_Path\\Crypto_Automated_Pull.csv',index = False)"
   ]
  },
  {
   "cell_type": "code",
   "execution_count": null,
   "id": "f8dcc930-2911-47c1-8334-a11443966194",
   "metadata": {},
   "outputs": [],
   "source": []
  },
  {
   "cell_type": "code",
   "execution_count": 441,
   "id": "b2955a89-73e1-4a0d-97c4-54900879a535",
   "metadata": {},
   "outputs": [],
   "source": [
    "\n",
    "import time\n",
    "time.sleep(10)"
   ]
  },
  {
   "cell_type": "markdown",
   "id": "b95e298c-eab2-48b3-a72e-eabd1b05c4fe",
   "metadata": {},
   "source": [
    "# Let's put it all togheter"
   ]
  },
  {
   "cell_type": "code",
   "execution_count": 480,
   "id": "463f4369-0055-48e6-aea7-41e1a2ed3456",
   "metadata": {},
   "outputs": [],
   "source": [
    "from bs4 import BeautifulSoup\n",
    "import requests\n",
    "import pandas as pd\n",
    "from datetime import datetime\n",
    "import os\n",
    "import time"
   ]
  },
  {
   "cell_type": "code",
   "execution_count": null,
   "id": "c01d9718-0953-4a65-b6a2-1ba40092bb81",
   "metadata": {},
   "outputs": [],
   "source": [
    "\n",
    "def automated_crypto_pull():\n",
    "    url = 'https://coinmarketcap.com/currencies/bitcoin/'\n",
    "    \n",
    "    page = requests.get(url)\n",
    "    \n",
    "    soup = BeautifulSoup(page.text, 'html')\n",
    "    \n",
    "    soup.find('span', class_= 'sc-65e7f566-0 lsTl').text\n",
    "    \n",
    "    crypto_name = soup.find('span', class_ = 'sc-65e7f566-0 lsTl').text\n",
    "    \n",
    "    crypto_name = crypto_name.replace(' price', '')\n",
    "    \n",
    "    crypto_price = soup.find('span', class_ = 'sc-65e7f566-0 clvjgF base-text').text\n",
    "    \n",
    "    final_price = crypto_price = crypto_price.replace('$','') \n",
    "    \n",
    "    date_time = datetime.now()\n",
    "    \n",
    "    dict = {'Crypto Name':crypto_name,\n",
    "            'Price':final_price,\n",
    "             'TimeStamp': date_time}\n",
    "    \n",
    "    df = pd.DataFrame([dict])\n",
    "    \n",
    "    if os.path.exists(r'C:\\#Enter_file_Path\\Crypto_Automated_Pull.csv'):\n",
    "        df.to_csv(r'C:\\#Enter_file_Path\\Crypto_Automated_Pull.csv',mode='a', header= False, index = False )\n",
    "    else:\n",
    "         df.to_csv(r'C:\\#Enter_file_Path\\Crypto_Automated_Pull.csv'', index= False)\n",
    "    print(df)"
   ]
  },
  {
   "cell_type": "code",
   "execution_count": null,
   "id": "265b3dcf-c46e-49bc-8acb-43e1103b0336",
   "metadata": {},
   "outputs": [],
   "source": []
  },
  {
   "cell_type": "code",
   "execution_count": null,
   "id": "7e44cf8f-1d40-451f-a35b-9778301b3903",
   "metadata": {},
   "outputs": [
    {
     "name": "stdout",
     "output_type": "stream",
     "text": [
      "  Crypto Name      Price                  TimeStamp\n",
      "0    Bitcoin   59,957.73 2024-08-29 12:31:12.211534\n"
     ]
    }
   ],
   "source": [
    "while True:\n",
    "    automated_crypto_pull()\n",
    "    time.sleep(3600)"
   ]
  },
  {
   "cell_type": "code",
   "execution_count": null,
   "id": "f301e3e1-7360-4aeb-a02d-cf2411990f78",
   "metadata": {},
   "outputs": [],
   "source": []
  },
  {
   "cell_type": "code",
   "execution_count": null,
   "id": "3f37483a-3538-4449-bd31-0c7059168598",
   "metadata": {},
   "outputs": [],
   "source": []
  },
  {
   "cell_type": "code",
   "execution_count": null,
   "id": "fda8900e-b486-4b11-9d2c-adf2f3b87c26",
   "metadata": {},
   "outputs": [],
   "source": []
  },
  {
   "cell_type": "code",
   "execution_count": null,
   "id": "4a53db72-a480-4e4e-9703-5f43f8d0ec30",
   "metadata": {},
   "outputs": [],
   "source": []
  },
  {
   "cell_type": "code",
   "execution_count": null,
   "id": "82cf5961-ccbb-4d3e-b904-48d1afd4d5b1",
   "metadata": {},
   "outputs": [],
   "source": []
  }
 ],
 "metadata": {
  "kernelspec": {
   "display_name": "Python 3 (ipykernel)",
   "language": "python",
   "name": "python3"
  },
  "language_info": {
   "codemirror_mode": {
    "name": "ipython",
    "version": 3
   },
   "file_extension": ".py",
   "mimetype": "text/x-python",
   "name": "python",
   "nbconvert_exporter": "python",
   "pygments_lexer": "ipython3",
   "version": "3.12.4"
  }
 },
 "nbformat": 4,
 "nbformat_minor": 5
}
